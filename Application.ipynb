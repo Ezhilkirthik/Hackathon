{
  "cells": [
    {
      "cell_type": "markdown",
      "metadata": {
        "id": "3HbUlsp3fS5p"
      },
      "source": [
        "Installation:"
      ]
    },
    {
      "cell_type": "code",
      "execution_count": null,
      "metadata": {
        "id": "_wS3_6gbXqvE"
      },
      "outputs": [],
      "source": [
        "!pip install faiss-cpu streamlit langchain huggingface_hub sentence_transformers pypdf peft streamlit_option_menu auto-gptq optimum diffusers"
      ]
    },
    {
      "cell_type": "markdown",
      "metadata": {
        "id": "Ra7uy0RhXd_2"
      },
      "source": [
        "# streamlit commend"
      ]
    },
    {
      "cell_type": "code",
      "execution_count": null,
      "metadata": {
        "colab": {
          "background_save": true,
          "base_uri": "https://localhost:8080/"
        },
        "id": "__Ep8_9KGYn_",
        "outputId": "5825a4b2-fb8f-420a-b682-f0d471801aab"
      },
      "outputs": [
        {
          "name": "stdout",
          "output_type": "stream",
          "text": [
            "34.73.137.115\n",
            "[##................] \\ fetchMetadata: sill resolveWithNewModule ms@2.1.2 checki\u001b[0m\u001b[K\n",
            "Collecting usage statistics. To deactivate, set browser.gatherUsageStats to False.\n",
            "\u001b[0m\n",
            "\u001b[0m\n",
            "\u001b[34m\u001b[1m  You can now view your Streamlit app in your browser.\u001b[0m\n",
            "\u001b[0m\n",
            "\u001b[34m  Network URL: \u001b[0m\u001b[1mhttp://172.28.0.12:8501\u001b[0m\n",
            "\u001b[34m  External URL: \u001b[0m\u001b[1mhttp://34.73.137.115:8501\u001b[0m\n",
            "\u001b[0m\n",
            "\u001b[K\u001b[?25hnpx: installed 22 in 5.026s\n",
            "your url is: https://good-places-wash.loca.lt\n",
            "2023-12-06 04:20:32.048560: E tensorflow/compiler/xla/stream_executor/cuda/cuda_dnn.cc:9342] Unable to register cuDNN factory: Attempting to register factory for plugin cuDNN when one has already been registered\n",
            "2023-12-06 04:20:32.048626: E tensorflow/compiler/xla/stream_executor/cuda/cuda_fft.cc:609] Unable to register cuFFT factory: Attempting to register factory for plugin cuFFT when one has already been registered\n",
            "2023-12-06 04:20:32.048666: E tensorflow/compiler/xla/stream_executor/cuda/cuda_blas.cc:1518] Unable to register cuBLAS factory: Attempting to register factory for plugin cuBLAS when one has already been registered\n",
            "2023-12-06 04:20:33.112884: W tensorflow/compiler/tf2tensorrt/utils/py_utils.cc:38] TF-TRT Warning: Could not find TensorRT\n",
            "2023-12-06 04:21:27.244 `label` got an empty value. This is discouraged for accessibility reasons and may be disallowed in the future by raising an exception. Please provide a non-empty label and hide it with label_visibility if needed.\n",
            "2023-12-06 04:21:30.280 `label` got an empty value. This is discouraged for accessibility reasons and may be disallowed in the future by raising an exception. Please provide a non-empty label and hide it with label_visibility if needed.\n",
            "2023-12-06 04:21:32.354 `label` got an empty value. This is discouraged for accessibility reasons and may be disallowed in the future by raising an exception. Please provide a non-empty label and hide it with label_visibility if needed.\n",
            "2023-12-06 04:21:44.447 `label` got an empty value. This is discouraged for accessibility reasons and may be disallowed in the future by raising an exception. Please provide a non-empty label and hide it with label_visibility if needed.\n",
            "2023-12-06 04:21:44.898 `label` got an empty value. This is discouraged for accessibility reasons and may be disallowed in the future by raising an exception. Please provide a non-empty label and hide it with label_visibility if needed.\n",
            "CUDA extension not installed.\n",
            "CUDA extension not installed.\n",
            "Using `disable_exllama` is deprecated and will be removed in version 4.37. Use `use_exllama` instead and specify the version with `exllama_config`.The value of `use_exllama` will be overwritten by `disable_exllama` passed in `GPTQConfig` or stored in your config file.\n",
            "model.safetensors: 100% 4.16G/4.16G [00:43<00:00, 96.3MB/s]\n",
            "generation_config.json: 100% 116/116 [00:00<00:00, 562kB/s]\n",
            "2023-12-06 04:22:56.744 Uncaught app exception\n",
            "Traceback (most recent call last):\n",
            "  File \"/usr/local/lib/python3.10/dist-packages/streamlit/runtime/scriptrunner/script_runner.py\", line 534, in _run_script\n",
            "    exec(code, module.__dict__)\n",
            "  File \"/content/app.py\", line 278, in <module>\n",
            "    model,config,inputs,tokenizer=doucument_creation(message)\n",
            "ValueError: not enough values to unpack (expected 4, got 3)\n",
            "2023-12-06 04:26:51.972 `label` got an empty value. This is discouraged for accessibility reasons and may be disallowed in the future by raising an exception. Please provide a non-empty label and hide it with label_visibility if needed.\n",
            "2023-12-06 04:28:52.844 `label` got an empty value. This is discouraged for accessibility reasons and may be disallowed in the future by raising an exception. Please provide a non-empty label and hide it with label_visibility if needed.\n",
            "2023-12-06 04:29:07.610 `label` got an empty value. This is discouraged for accessibility reasons and may be disallowed in the future by raising an exception. Please provide a non-empty label and hide it with label_visibility if needed.\n",
            "2023-12-06 04:29:08.272 `label` got an empty value. This is discouraged for accessibility reasons and may be disallowed in the future by raising an exception. Please provide a non-empty label and hide it with label_visibility if needed.\n",
            "Using `disable_exllama` is deprecated and will be removed in version 4.37. Use `use_exllama` instead and specify the version with `exllama_config`.The value of `use_exllama` will be overwritten by `disable_exllama` passed in `GPTQConfig` or stored in your config file.\n",
            "Substring not found in the string.\n",
            "2023-12-06 04:36:03.730 `label` got an empty value. This is discouraged for accessibility reasons and may be disallowed in the future by raising an exception. Please provide a non-empty label and hide it with label_visibility if needed.\n",
            "Using `disable_exllama` is deprecated and will be removed in version 4.37. Use `use_exllama` instead and specify the version with `exllama_config`.The value of `use_exllama` will be overwritten by `disable_exllama` passed in `GPTQConfig` or stored in your config file.\n",
            "<|system|>\n",
            " You are legal document generator and is going to prepare a document for user with given prompt. you always give best document possible in correct format.ensure that the document is always complete.it should not be incomplete. \n",
            "<|user|>\n",
            "Give me a contract document between Wipro organization of banglore ,and zipro organisation of California, stating that zipro have to deliver project within 6 months ,so that Wipro pays 10lakhs dollars,and if delivery delays,zipro have to pay 1 lakhs dollars penalty to Wipro. Give me the legal document based on Indian law, and in 1 page and in correct format, give me the complete document in single response \n",
            "<|assistant|>\n",
            "PROJECT DELIVERY CONTRACT\n",
            "\n",
            "This Project Delivery Contract (the \"Contract\") is made and entered into on November 1, 2023, by and between Wipro Organization of Bangalore, India, represented by Mr. ABCD, hereinafter referred to as \"Client,\" and Zipro Organization of California, USA, hereinafter referred to as \"Service Provider,\" to outline the terms and conditions of a project delivery agreement.\n",
            "\n",
            "1. **PROJECT DELIVERY:**\n",
            "   Service Provider agrees to deliver the project specifications within 6 months of contract signing. \n",
            "\n",
            "2. **PAYMENT TERMS:**\n",
            "   In consideration for the services provided, the Client agrees to pay the Service Provider a total fee of 10,000 USD upon completion of the project.\n",
            "\n",
            "3. **PENALTY CLAUSE:**\n",
            "   If the project is not delivered within the specified timeframe, the Service Provider shall pay the Client a penalty of 1,000 USD for each month of delay.\n",
            "\n",
            "4. **TERMINATION:**\n",
            "   Either party may terminate\n",
            "Substring not found in the string.\n",
            "2023-12-06 04:45:31.341 `label` got an empty value. This is discouraged for accessibility reasons and may be disallowed in the future by raising an exception. Please provide a non-empty label and hide it with label_visibility if needed.\n",
            "2023-12-06 04:46:24.937 `label` got an empty value. This is discouraged for accessibility reasons and may be disallowed in the future by raising an exception. Please provide a non-empty label and hide it with label_visibility if needed.\n",
            "2023-12-06 04:46:25.413 `label` got an empty value. This is discouraged for accessibility reasons and may be disallowed in the future by raising an exception. Please provide a non-empty label and hide it with label_visibility if needed.\n",
            "Using `disable_exllama` is deprecated and will be removed in version 4.37. Use `use_exllama` instead and specify the version with `exllama_config`.The value of `use_exllama` will be overwritten by `disable_exllama` passed in `GPTQConfig` or stored in your config file.\n",
            "Substring not found in the string.\n",
            "\u001b[34m  Stopping...\u001b[0m\n",
            "^C\n"
          ]
        }
      ],
      "source": [
        "!wget -q -O - ipv4.icanhazip.com\n",
        "!streamlit run app.py & npx localtunnel --port 8501"
      ]
    }
  ],
  "metadata": {
    "colab": {
      "provenance": []
    },
    "kernelspec": {
      "display_name": "Python 3",
      "name": "python3"
    },
    "language_info": {
      "name": "python"
    }
  },
  "nbformat": 4,
  "nbformat_minor": 0
}