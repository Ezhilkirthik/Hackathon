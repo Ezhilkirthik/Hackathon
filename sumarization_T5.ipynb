{
  "nbformat": 4,
  "nbformat_minor": 0,
  "metadata": {
    "colab": {
      "provenance": []
    },
    "kernelspec": {
      "name": "python3",
      "display_name": "Python 3"
    },
    "language_info": {
      "name": "python"
    }
  },
  "cells": [
    {
      "cell_type": "markdown",
      "source": [
        "!pip uninstall torch torchvision -y\n",
        "!pip install torch==1.8.1 torchvision==0.9.1 torchtext==0.9.0\n"
      ],
      "metadata": {
        "id": "onRGUEPp4IDw"
      }
    },
    {
      "cell_type": "code",
      "source": [
        "from google.colab import drive\n",
        "drive.mount('/content/drive')"
      ],
      "metadata": {
        "colab": {
          "base_uri": "https://localhost:8080/"
        },
        "id": "NSjRnqJR5CVQ",
        "outputId": "d10001c0-6e1b-4b54-f410-705af9d5d7a7"
      },
      "execution_count": null,
      "outputs": [
        {
          "output_type": "stream",
          "name": "stdout",
          "text": [
            "Drive already mounted at /content/drive; to attempt to forcibly remount, call drive.mount(\"/content/drive\", force_remount=True).\n"
          ]
        }
      ]
    },
    {
      "cell_type": "code",
      "source": [
        "!pip install accelerate\n",
        "\n",
        "!pip install transformers -U"
      ],
      "metadata": {
        "id": "mNlvmIUn4M7k",
        "colab": {
          "base_uri": "https://localhost:8080/"
        },
        "outputId": "42ce1911-c73c-4b50-a94d-4a93844dc37b"
      },
      "execution_count": null,
      "outputs": [
        {
          "output_type": "stream",
          "name": "stdout",
          "text": [
            "Requirement already satisfied: accelerate in /usr/local/lib/python3.10/dist-packages (0.25.0)\n",
            "Requirement already satisfied: numpy>=1.17 in /usr/local/lib/python3.10/dist-packages (from accelerate) (1.23.5)\n",
            "Requirement already satisfied: packaging>=20.0 in /usr/local/lib/python3.10/dist-packages (from accelerate) (23.2)\n",
            "Requirement already satisfied: psutil in /usr/local/lib/python3.10/dist-packages (from accelerate) (5.9.5)\n",
            "Requirement already satisfied: pyyaml in /usr/local/lib/python3.10/dist-packages (from accelerate) (6.0.1)\n",
            "Requirement already satisfied: torch>=1.10.0 in /usr/local/lib/python3.10/dist-packages (from accelerate) (2.1.0+cu118)\n",
            "Requirement already satisfied: huggingface-hub in /usr/local/lib/python3.10/dist-packages (from accelerate) (0.19.4)\n",
            "Requirement already satisfied: safetensors>=0.3.1 in /usr/local/lib/python3.10/dist-packages (from accelerate) (0.4.1)\n",
            "Requirement already satisfied: filelock in /usr/local/lib/python3.10/dist-packages (from torch>=1.10.0->accelerate) (3.13.1)\n",
            "Requirement already satisfied: typing-extensions in /usr/local/lib/python3.10/dist-packages (from torch>=1.10.0->accelerate) (4.5.0)\n",
            "Requirement already satisfied: sympy in /usr/local/lib/python3.10/dist-packages (from torch>=1.10.0->accelerate) (1.12)\n",
            "Requirement already satisfied: networkx in /usr/local/lib/python3.10/dist-packages (from torch>=1.10.0->accelerate) (3.2.1)\n",
            "Requirement already satisfied: jinja2 in /usr/local/lib/python3.10/dist-packages (from torch>=1.10.0->accelerate) (3.1.2)\n",
            "Requirement already satisfied: fsspec in /usr/local/lib/python3.10/dist-packages (from torch>=1.10.0->accelerate) (2023.6.0)\n",
            "Requirement already satisfied: triton==2.1.0 in /usr/local/lib/python3.10/dist-packages (from torch>=1.10.0->accelerate) (2.1.0)\n",
            "Requirement already satisfied: requests in /usr/local/lib/python3.10/dist-packages (from huggingface-hub->accelerate) (2.31.0)\n",
            "Requirement already satisfied: tqdm>=4.42.1 in /usr/local/lib/python3.10/dist-packages (from huggingface-hub->accelerate) (4.66.1)\n",
            "Requirement already satisfied: MarkupSafe>=2.0 in /usr/local/lib/python3.10/dist-packages (from jinja2->torch>=1.10.0->accelerate) (2.1.3)\n",
            "Requirement already satisfied: charset-normalizer<4,>=2 in /usr/local/lib/python3.10/dist-packages (from requests->huggingface-hub->accelerate) (3.3.2)\n",
            "Requirement already satisfied: idna<4,>=2.5 in /usr/local/lib/python3.10/dist-packages (from requests->huggingface-hub->accelerate) (3.6)\n",
            "Requirement already satisfied: urllib3<3,>=1.21.1 in /usr/local/lib/python3.10/dist-packages (from requests->huggingface-hub->accelerate) (2.0.7)\n",
            "Requirement already satisfied: certifi>=2017.4.17 in /usr/local/lib/python3.10/dist-packages (from requests->huggingface-hub->accelerate) (2023.11.17)\n",
            "Requirement already satisfied: mpmath>=0.19 in /usr/local/lib/python3.10/dist-packages (from sympy->torch>=1.10.0->accelerate) (1.3.0)\n",
            "Requirement already satisfied: transformers in /usr/local/lib/python3.10/dist-packages (4.35.2)\n",
            "Requirement already satisfied: filelock in /usr/local/lib/python3.10/dist-packages (from transformers) (3.13.1)\n",
            "Requirement already satisfied: huggingface-hub<1.0,>=0.16.4 in /usr/local/lib/python3.10/dist-packages (from transformers) (0.19.4)\n",
            "Requirement already satisfied: numpy>=1.17 in /usr/local/lib/python3.10/dist-packages (from transformers) (1.23.5)\n",
            "Requirement already satisfied: packaging>=20.0 in /usr/local/lib/python3.10/dist-packages (from transformers) (23.2)\n",
            "Requirement already satisfied: pyyaml>=5.1 in /usr/local/lib/python3.10/dist-packages (from transformers) (6.0.1)\n",
            "Requirement already satisfied: regex!=2019.12.17 in /usr/local/lib/python3.10/dist-packages (from transformers) (2023.6.3)\n",
            "Requirement already satisfied: requests in /usr/local/lib/python3.10/dist-packages (from transformers) (2.31.0)\n",
            "Requirement already satisfied: tokenizers<0.19,>=0.14 in /usr/local/lib/python3.10/dist-packages (from transformers) (0.15.0)\n",
            "Requirement already satisfied: safetensors>=0.3.1 in /usr/local/lib/python3.10/dist-packages (from transformers) (0.4.1)\n",
            "Requirement already satisfied: tqdm>=4.27 in /usr/local/lib/python3.10/dist-packages (from transformers) (4.66.1)\n",
            "Requirement already satisfied: fsspec>=2023.5.0 in /usr/local/lib/python3.10/dist-packages (from huggingface-hub<1.0,>=0.16.4->transformers) (2023.6.0)\n",
            "Requirement already satisfied: typing-extensions>=3.7.4.3 in /usr/local/lib/python3.10/dist-packages (from huggingface-hub<1.0,>=0.16.4->transformers) (4.5.0)\n",
            "Requirement already satisfied: charset-normalizer<4,>=2 in /usr/local/lib/python3.10/dist-packages (from requests->transformers) (3.3.2)\n",
            "Requirement already satisfied: idna<4,>=2.5 in /usr/local/lib/python3.10/dist-packages (from requests->transformers) (3.6)\n",
            "Requirement already satisfied: urllib3<3,>=1.21.1 in /usr/local/lib/python3.10/dist-packages (from requests->transformers) (2.0.7)\n",
            "Requirement already satisfied: certifi>=2017.4.17 in /usr/local/lib/python3.10/dist-packages (from requests->transformers) (2023.11.17)\n"
          ]
        }
      ]
    },
    {
      "cell_type": "code",
      "source": [
        "!pip install modin"
      ],
      "metadata": {
        "colab": {
          "base_uri": "https://localhost:8080/"
        },
        "id": "fyI5Vkxvh1M0",
        "outputId": "da7bb0da-7b86-4fa6-8f09-dae521ff76e5"
      },
      "execution_count": null,
      "outputs": [
        {
          "output_type": "stream",
          "name": "stdout",
          "text": [
            "Requirement already satisfied: modin in /usr/local/lib/python3.10/dist-packages (0.25.1)\n",
            "Requirement already satisfied: pandas<2.2,>=2.1 in /usr/local/lib/python3.10/dist-packages (from modin) (2.1.3)\n",
            "Requirement already satisfied: packaging>=21.0 in /usr/local/lib/python3.10/dist-packages (from modin) (23.2)\n",
            "Requirement already satisfied: numpy>=1.22.4 in /usr/local/lib/python3.10/dist-packages (from modin) (1.23.5)\n",
            "Requirement already satisfied: fsspec>=2022.05.0 in /usr/local/lib/python3.10/dist-packages (from modin) (2023.6.0)\n",
            "Requirement already satisfied: psutil>=5.8.0 in /usr/local/lib/python3.10/dist-packages (from modin) (5.9.5)\n",
            "Requirement already satisfied: python-dateutil>=2.8.2 in /usr/local/lib/python3.10/dist-packages (from pandas<2.2,>=2.1->modin) (2.8.2)\n",
            "Requirement already satisfied: pytz>=2020.1 in /usr/local/lib/python3.10/dist-packages (from pandas<2.2,>=2.1->modin) (2023.3.post1)\n",
            "Requirement already satisfied: tzdata>=2022.1 in /usr/local/lib/python3.10/dist-packages (from pandas<2.2,>=2.1->modin) (2023.3)\n",
            "Requirement already satisfied: six>=1.5 in /usr/local/lib/python3.10/dist-packages (from python-dateutil>=2.8.2->pandas<2.2,>=2.1->modin) (1.16.0)\n"
          ]
        }
      ]
    },
    {
      "cell_type": "code",
      "source": [
        "import numpy as np\n",
        "import pandas as pd\n",
        "import modin.pandas as mpd\n",
        "import time\n",
        "import matplotlib.pyplot as plt\n",
        "\n",
        "# Create a sample dataframe\n",
        "data = {'col1': np.random.rand(10**6),\n",
        "        'col2': np.random.rand(10**6)}\n",
        "\n",
        "pandas_df = pd.DataFrame(data)\n",
        "modin_df = mpd.DataFrame(data)\n",
        "\n",
        "# Function to measure inference time\n",
        "def measure_time(func, df, num_iterations=10):\n",
        "    start_time = time.time()\n",
        "    for _ in range(num_iterations):\n",
        "        func(df)\n",
        "    end_time = time.time()\n",
        "    return (end_time - start_time) / num_iterations\n",
        "\n",
        "# Measure inference time for pandas\n",
        "pandas_time = measure_time(lambda df: df.sum(), pandas_df)\n",
        "\n",
        "# Measure inference time for modin.pandas\n",
        "modin_time = measure_time(lambda df: df.sum(), modin_df)\n",
        "\n",
        "# Visual representation\n",
        "labels = [ 'Modin','Pandas']\n",
        "times = [pandas_time, modin_time]\n",
        "\n",
        "plt.bar(labels, times, color=['blue', 'orange'])\n",
        "plt.ylabel('Time (seconds)')\n",
        "plt.title('Inference Time Comparison: Pandas vs Modin \\n Number of rows in Datasets: 30207 X 2 rows')\n",
        "plt.show()\n"
      ],
      "metadata": {
        "colab": {
          "base_uri": "https://localhost:8080/",
          "height": 490
        },
        "id": "woy6cjnOimGL",
        "outputId": "3464d33d-64d7-4d5e-a98a-cb9c9d3cbf9b"
      },
      "execution_count": null,
      "outputs": [
        {
          "output_type": "stream",
          "name": "stderr",
          "text": [
            "UserWarning: Distributing <class 'dict'> object. This may take some time.\n"
          ]
        },
        {
          "output_type": "display_data",
          "data": {
            "text/plain": [
              "<Figure size 640x480 with 1 Axes>"
            ],
            "image/png": "[encoded data removed]"
          },
          "metadata": {}
        }
      ]
    },
    {
      "cell_type": "code",
      "source": [
        "import matplotlib.pyplot as plt\n",
        "\n",
        "# Assuming you have two time variables, let's call them time1 and time2\n",
        "time1 = 98.04223680496216  # Replace this with your actual time variable\n",
        "time2 = 124.3553466796875  # Replace this with your actual time variable\n",
        "\n",
        "# Visual representation\n",
        "labels = ['With Intel extension', 'Without Intel extension']\n",
        "times = [time1, time2]\n",
        "\n",
        "plt.plot(labels, times, marker='o', linestyle='-', color='b')\n",
        "plt.ylabel('Time (seconds)')\n",
        "plt.title('Inference Time of Hugging Face Model')\n",
        "\n",
        "# Add annotations for the actual time values\n",
        "for label, time_value in zip(labels, times):\n",
        "    plt.annotate(f'{time_value:.2f} seconds', (label, time_value), textcoords=\"offset points\", xytext=(0,5), ha='center')\n",
        "\n",
        "plt.show()"
      ],
      "metadata": {
        "id": "qJJJdsi_w9V5",
        "outputId": "a54d63b6-1a09-48fa-d351-90eb043a872a",
        "colab": {
          "base_uri": "https://localhost:8080/",
          "height": 452
        }
      },
      "execution_count": null,
      "outputs": [
        {
          "output_type": "display_data",
          "data": {
            "text/plain": [
              "<Figure size 640x480 with 1 Axes>"
            ],
            "image/png": "[encoded data removed]"
          },
          "metadata": {}
        }
      ]
    },
    {
      "cell_type": "code",
      "source": [
        "\n",
        "data = pd.read_csv('/content/drive/MyDrive/intel hackathon/squad_train.csv',encoding = 'unicode_escape')\n",
        "data.drop_duplicates(keep='first')\n",
        "data\n",
        "df = data[['prompt','response']]"
      ],
      "metadata": {
        "id": "MxI7CfENOsF4"
      },
      "execution_count": null,
      "outputs": []
    },
    {
      "cell_type": "code",
      "source": [
        "df = df.rename(columns={'prompt':'document', 'response':'summary'})\n",
        "df = df.dropna()"
      ],
      "metadata": {
        "id": "Ew0OIdz5OykZ"
      },
      "execution_count": null,
      "outputs": []
    },
    {
      "cell_type": "code",
      "source": [
        "df['document']= df['document'].apply(lambda x: x.lower())\n",
        "df['summary'] = df['summary'].apply(lambda x: x.lower())"
      ],
      "metadata": {
        "id": "8AeEVWEEO3Z7"
      },
      "execution_count": null,
      "outputs": []
    },
    {
      "cell_type": "code",
      "source": [
        "import pandas as pd\n",
        "import modin.pandas as mpd\n",
        "import time\n",
        "import matplotlib.pyplot as plt\n",
        "\n",
        "# Load the dataset\n",
        "data = pd.read_csv('/content/drive/MyDrive/intel hackathon/squad_train.csv', encoding='unicode_escape')\n",
        "data.drop_duplicates(keep='first', inplace=True)\n",
        "\n",
        "df = data[['prompt', 'response']]\n",
        "df = df.rename(columns={'prompt': 'document', 'response': 'summary'})\n",
        "df = df.dropna()\n",
        "df['document'] = df['document'].apply(lambda x: x.lower())\n",
        "df['summary'] = df['summary'].apply(lambda x: x.lower())\n",
        "\n",
        "# Function to measure inference time\n",
        "def measure_time(func, *args, num_iterations=10):\n",
        "    start_time = time.time()\n",
        "    for _ in range(num_iterations):\n",
        "        func(*args)\n",
        "    end_time = time.time()\n",
        "    return (end_time - start_time) / num_iterations\n",
        "\n",
        "# Measure inference time for pandas\n",
        "pandas_time = measure_time(lambda df: df['document'].apply(lambda x: x.lower()), df)\n",
        "\n",
        "# Convert the dataframe to modin dataframe\n",
        "modin_df = mpd.DataFrame(df)\n",
        "\n",
        "# Measure inference time for modin.pandas\n",
        "modin_time = measure_time(lambda df: df['document'].apply(lambda x: x.lower()), modin_df)\n",
        "\n",
        "# Visual representation\n",
        "labels = ['Pandas', 'Modin']\n",
        "times = [pandas_time, modin_time]\n",
        "\n",
        "plt.bar(labels, times, color=['blue', 'orange'])\n",
        "plt.ylabel('Time (seconds)')\n",
        "plt.title('Inference Time Comparison: Pandas vs Modin (Lowercasing)')\n",
        "plt.show()"
      ],
      "metadata": {
        "colab": {
          "base_uri": "https://localhost:8080/",
          "height": 469
        },
        "id": "OAqN--2Aq0Ya",
        "outputId": "a9a788ce-3927-4af9-ab85-21f123efb1eb"
      },
      "execution_count": null,
      "outputs": [
        {
          "output_type": "stream",
          "name": "stderr",
          "text": [
            "UserWarning: Distributing <class 'pandas.core.frame.DataFrame'> object. This may take some time.\n"
          ]
        },
        {
          "output_type": "display_data",
          "data": {
            "text/plain": [
              "<Figure size 640x480 with 1 Axes>"
            ],
            "image/png": "[encoded data removed]"
          },
          "metadata": {}
        }
      ]
    },
    {
      "cell_type": "code",
      "source": [
        "import pandas as pd\n",
        "import modin.pandas as mpd\n",
        "import time\n",
        "import matplotlib.pyplot as plt\n",
        "\n",
        "# Load the dataset\n",
        "data = pd.read_csv('/content/drive/MyDrive/intel hackathon/squad_train.csv', encoding='unicode_escape')\n",
        "data.drop_duplicates(keep='first', inplace=True)\n",
        "\n",
        "# Function to preprocess the entire dataset (all columns)\n",
        "def preprocess_df(df):\n",
        "    df['document'] = df['document'].apply(lambda x: x.lower())\n",
        "    df['summary'] = df['summary'].apply(lambda x: x.lower())\n",
        "    return df\n",
        "\n",
        "# Measure inference time for pandas\n",
        "pandas_time = measure_time(preprocess_df, data)\n",
        "\n",
        "# Convert the dataframe to modin dataframe\n",
        "modin_df = mpd.DataFrame(data)\n",
        "\n",
        "# Measure inference time for modin.pandas\n",
        "modin_time = measure_time(preprocess_df, modin_df)\n",
        "\n",
        "# Get the number of rows in the dataset\n",
        "num_rows = len(data)\n",
        "\n",
        "# Visual representation\n",
        "labels = ['Pandas', 'Modin']\n",
        "times = [pandas_time, modin_time]\n",
        "\n",
        "plt.bar(labels, times, color=['blue', 'orange'])\n",
        "plt.ylabel('Time (seconds)')\n",
        "plt.title(f'Inference Time Comparison: Pandas vs Modin (Lowercasing) for {num_rows} Rows')\n",
        "plt.show()\n"
      ],
      "metadata": {
        "id": "a1_K3fsxrpx6"
      },
      "execution_count": null,
      "outputs": []
    },
    {
      "cell_type": "code",
      "source": [
        "import pandas as pd\n",
        "import modin.pandas as mpd\n",
        "import time\n",
        "import matplotlib.pyplot as plt\n",
        "\n",
        "# Load the dataset\n",
        "data = pd.read_csv('/content/drive/MyDrive/intel hackathon/squad_train.csv', encoding='unicode_escape')\n",
        "data.drop_duplicates(keep='first', inplace=True)\n",
        "\n",
        "df = data[['prompt', 'response']]\n",
        "df = df.rename(columns={'prompt': 'document', 'response': 'summary'})\n",
        "df = df.dropna()\n",
        "df['document'] = df['document'].apply(lambda x: x.lower())\n",
        "df['summary'] = df['summary'].apply(lambda x: x.lower())\n",
        "\n",
        "# Function to measure inference time\n",
        "def measure_time(func, *args, num_iterations=10):\n",
        "    start_time = time.time()\n",
        "    for _ in range(num_iterations):\n",
        "        func(*args)\n",
        "    end_time = time.time()\n",
        "    return (end_time - start_time) / num_iterations\n",
        "\n",
        "# Measure inference time for pandas\n",
        "pandas_time = measure_time(lambda df: df['document'].apply(lambda x: x.lower()), df)\n",
        "\n",
        "# Convert the dataframe to modin dataframe\n",
        "modin_df = mpd.DataFrame(df)\n",
        "\n",
        "# Measure inference time for modin.pandas\n",
        "modin_time = measure_time(lambda df: df['document'].apply(lambda x: x.lower()), modin_df)\n",
        "\n",
        "# Get the number of rows in the dataset\n",
        "num_rows = len(df)\n",
        "\n",
        "# Visual representation\n",
        "labels = ['Pandas', 'Modin']\n",
        "times = [pandas_time, modin_time]\n",
        "\n",
        "plt.bar(labels, times, color=['blue', 'orange'])\n",
        "plt.ylabel('Time (seconds)')\n",
        "plt.title(f'Inference Time Comparison: Pandas vs Modin (Lowercasing)\\nNumber of Rows: {num_rows}')\n",
        "plt.show()\n"
      ],
      "metadata": {
        "colab": {
          "base_uri": "https://localhost:8080/",
          "height": 490
        },
        "id": "jv9hCv3srKpp",
        "outputId": "e2ec8900-79ba-42e8-86e2-333031cdd324"
      },
      "execution_count": null,
      "outputs": [
        {
          "output_type": "stream",
          "name": "stderr",
          "text": [
            "UserWarning: Distributing <class 'pandas.core.frame.DataFrame'> object. This may take some time.\n"
          ]
        },
        {
          "output_type": "display_data",
          "data": {
            "text/plain": [
              "<Figure size 640x480 with 1 Axes>"
            ],
            "image/png": "[encoded data removed]"
          },
          "metadata": {}
        }
      ]
    },
    {
      "cell_type": "code",
      "source": [
        "df"
      ],
      "metadata": {
        "colab": {
          "base_uri": "https://localhost:8080/",
          "height": 424
        },
        "id": "rArPo4GBO4wu",
        "outputId": "5b6f8e96-ff85-4d6a-f07e-f19c73030a85"
      },
      "execution_count": null,
      "outputs": [
        {
          "output_type": "execute_result",
          "data": {
            "text/plain": [
              "                                                document  \\\n",
              "0      appeal no. lxvi of 1949.\\nappeal from the high...   \n",
              "1      civil appeal no.94 of 1949.\\n107 834 appeal fr...   \n",
              "2      iminal appeal no. 40 of 1951, 127 appeal from ...   \n",
              "3      appeal no. 388 of 1960.\\nappeal by special lea...   \n",
              "4      appeal no. 198 of 1954.\\nappeal from the judgm...   \n",
              "...                                                  ...   \n",
              "30267                article 378a of indian constitution   \n",
              "30268                 article 392 of indian constitution   \n",
              "30269                 article 393 of indian constitution   \n",
              "30270                 article 394 of indian constitution   \n",
              "30271                 article 395 of indian constitution   \n",
              "\n",
              "                                                 summary  \n",
              "0      the charge created in respect of municipal pro...  \n",
              "1      an agreement for a lease, which a lease is by ...  \n",
              "2      the question whether a magistrate is \"personal...  \n",
              "3      the appellant was a member of a joint hindu fa...  \n",
              "4      the appellant was the ruler of the state of ba...  \n",
              "...                                                  ...  \n",
              "30267  special provision as to duration of andhra pra...  \n",
              "30268  power of the president to remove difficulties\\...  \n",
              "30269  short title this constitution may be called th...  \n",
              "30270  commencement this article and articles 5, 6, 7...  \n",
              "30271  repeals the indian independence act, 1947 , an...  \n",
              "\n",
              "[11990 rows x 2 columns]"
            ],
            "text/html": [
              "\n",
              "  <div id=\"df-d99514bc-0bf7-4d37-ae80-539987ccb078\" class=\"colab-df-container\">\n",
              "    <div>\n",
              "<style scoped>\n",
              "    .dataframe tbody tr th:only-of-type {\n",
              "        vertical-align: middle;\n",
              "    }\n",
              "\n",
              "    .dataframe tbody tr th {\n",
              "        vertical-align: top;\n",
              "    }\n",
              "\n",
              "    .dataframe thead th {\n",
              "        text-align: right;\n",
              "    }\n",
              "</style>\n",
              "<table border=\"1\" class=\"dataframe\">\n",
              "  <thead>\n",
              "    <tr style=\"text-align: right;\">\n",
              "      <th></th>\n",
              "      <th>document</th>\n",
              "      <th>summary</th>\n",
              "    </tr>\n",
              "  </thead>\n",
              "  <tbody>\n",
              "    <tr>\n",
              "      <th>0</th>\n",
              "      <td>appeal no. lxvi of 1949.\\nappeal from the high...</td>\n",
              "      <td>the charge created in respect of municipal pro...</td>\n",
              "    </tr>\n",
              "    <tr>\n",
              "      <th>1</th>\n",
              "      <td>civil appeal no.94 of 1949.\\n107 834 appeal fr...</td>\n",
              "      <td>an agreement for a lease, which a lease is by ...</td>\n",
              "    </tr>\n",
              "    <tr>\n",
              "      <th>2</th>\n",
              "      <td>iminal appeal no. 40 of 1951, 127 appeal from ...</td>\n",
              "      <td>the question whether a magistrate is \"personal...</td>\n",
              "    </tr>\n",
              "    <tr>\n",
              "      <th>3</th>\n",
              "      <td>appeal no. 388 of 1960.\\nappeal by special lea...</td>\n",
              "      <td>the appellant was a member of a joint hindu fa...</td>\n",
              "    </tr>\n",
              "    <tr>\n",
              "      <th>4</th>\n",
              "      <td>appeal no. 198 of 1954.\\nappeal from the judgm...</td>\n",
              "      <td>the appellant was the ruler of the state of ba...</td>\n",
              "    </tr>\n",
              "    <tr>\n",
              "      <th>...</th>\n",
              "      <td>...</td>\n",
              "      <td>...</td>\n",
              "    </tr>\n",
              "    <tr>\n",
              "      <th>30267</th>\n",
              "      <td>article 378a of indian constitution</td>\n",
              "      <td>special provision as to duration of andhra pra...</td>\n",
              "    </tr>\n",
              "    <tr>\n",
              "      <th>30268</th>\n",
              "      <td>article 392 of indian constitution</td>\n",
              "      <td>power of the president to remove difficulties\\...</td>\n",
              "    </tr>\n",
              "    <tr>\n",
              "      <th>30269</th>\n",
              "      <td>article 393 of indian constitution</td>\n",
              "      <td>short title this constitution may be called th...</td>\n",
              "    </tr>\n",
              "    <tr>\n",
              "      <th>30270</th>\n",
              "      <td>article 394 of indian constitution</td>\n",
              "      <td>commencement this article and articles 5, 6, 7...</td>\n",
              "    </tr>\n",
              "    <tr>\n",
              "      <th>30271</th>\n",
              "      <td>article 395 of indian constitution</td>\n",
              "      <td>repeals the indian independence act, 1947 , an...</td>\n",
              "    </tr>\n",
              "  </tbody>\n",
              "</table>\n",
              "<p>11990 rows × 2 columns</p>\n",
              "</div>\n",
              "    <div class=\"colab-df-buttons\">\n",
              "\n",
              "  <div class=\"colab-df-container\">\n",
              "    <button class=\"colab-df-convert\" onclick=\"convertToInteractive('df-d99514bc-0bf7-4d37-ae80-539987ccb078')\"\n",
              "            title=\"Convert this dataframe to an interactive table.\"\n",
              "            style=\"display:none;\">\n",
              "\n",
              "  <svg xmlns=\"http://www.w3.org/2000/svg\" height=\"24px\" viewBox=\"0 -960 960 960\">\n",
              "    <path d=\"M120-120v-720h720v720H120Zm60-500h600v-160H180v160Zm220 220h160v-160H400v160Zm0 220h160v-160H400v160ZM180-400h160v-160H180v160Zm440 0h160v-160H620v160ZM180-180h160v-160H180v160Zm440 0h160v-160H620v160Z\"/>\n",
              "  </svg>\n",
              "    </button>\n",
              "\n",
              "  <style>\n",
              "    .colab-df-container {\n",
              "      display:flex;\n",
              "      gap: 12px;\n",
              "    }\n",
              "\n",
              "    .colab-df-convert {\n",
              "      background-color: #E8F0FE;\n",
              "      border: none;\n",
              "      border-radius: 50%;\n",
              "      cursor: pointer;\n",
              "      display: none;\n",
              "      fill: #1967D2;\n",
              "      height: 32px;\n",
              "      padding: 0 0 0 0;\n",
              "      width: 32px;\n",
              "    }\n",
              "\n",
              "    .colab-df-convert:hover {\n",
              "      background-color: #E2EBFA;\n",
              "      box-shadow: 0px 1px 2px rgba(60, 64, 67, 0.3), 0px 1px 3px 1px rgba(60, 64, 67, 0.15);\n",
              "      fill: #174EA6;\n",
              "    }\n",
              "\n",
              "    .colab-df-buttons div {\n",
              "      margin-bottom: 4px;\n",
              "    }\n",
              "\n",
              "    [theme=dark] .colab-df-convert {\n",
              "      background-color: #3B4455;\n",
              "      fill: #D2E3FC;\n",
              "    }\n",
              "\n",
              "    [theme=dark] .colab-df-convert:hover {\n",
              "      background-color: #434B5C;\n",
              "      box-shadow: 0px 1px 3px 1px rgba(0, 0, 0, 0.15);\n",
              "      filter: drop-shadow(0px 1px 2px rgba(0, 0, 0, 0.3));\n",
              "      fill: #FFFFFF;\n",
              "    }\n",
              "  </style>\n",
              "\n",
              "    <script>\n",
              "      const buttonEl =\n",
              "        document.querySelector('#df-d99514bc-0bf7-4d37-ae80-539987ccb078 button.colab-df-convert');\n",
              "      buttonEl.style.display =\n",
              "        google.colab.kernel.accessAllowed ? 'block' : 'none';\n",
              "\n",
              "      async function convertToInteractive(key) {\n",
              "        const element = document.querySelector('#df-d99514bc-0bf7-4d37-ae80-539987ccb078');\n",
              "        const dataTable =\n",
              "          await google.colab.kernel.invokeFunction('convertToInteractive',\n",
              "                                                    [key], {});\n",
              "        if (!dataTable) return;\n",
              "\n",
              "        const docLinkHtml = 'Like what you see? Visit the ' +\n",
              "          '<a target=\"_blank\" href=https://colab.research.google.com/notebooks/data_table.ipynb>data table notebook</a>'\n",
              "          + ' to learn more about interactive tables.';\n",
              "        element.innerHTML = '';\n",
              "        dataTable['output_type'] = 'display_data';\n",
              "        await google.colab.output.renderOutput(dataTable, element);\n",
              "        const docLink = document.createElement('div');\n",
              "        docLink.innerHTML = docLinkHtml;\n",
              "        element.appendChild(docLink);\n",
              "      }\n",
              "    </script>\n",
              "  </div>\n",
              "\n",
              "\n",
              "<div id=\"df-a620ed97-5351-4499-9b51-6823c11a3b59\">\n",
              "  <button class=\"colab-df-quickchart\" onclick=\"quickchart('df-a620ed97-5351-4499-9b51-6823c11a3b59')\"\n",
              "            title=\"Suggest charts\"\n",
              "            style=\"display:none;\">\n",
              "\n",
              "<svg xmlns=\"http://www.w3.org/2000/svg\" height=\"24px\"viewBox=\"0 0 24 24\"\n",
              "     width=\"24px\">\n",
              "    <g>\n",
              "        <path d=\"M19 3H5c-1.1 0-2 .9-2 2v14c0 1.1.9 2 2 2h14c1.1 0 2-.9 2-2V5c0-1.1-.9-2-2-2zM9 17H7v-7h2v7zm4 0h-2V7h2v10zm4 0h-2v-4h2v4z\"/>\n",
              "    </g>\n",
              "</svg>\n",
              "  </button>\n",
              "\n",
              "<style>\n",
              "  .colab-df-quickchart {\n",
              "      --bg-color: #E8F0FE;\n",
              "      --fill-color: #1967D2;\n",
              "      --hover-bg-color: #E2EBFA;\n",
              "      --hover-fill-color: #174EA6;\n",
              "      --disabled-fill-color: #AAA;\n",
              "      --disabled-bg-color: #DDD;\n",
              "  }\n",
              "\n",
              "  [theme=dark] .colab-df-quickchart {\n",
              "      --bg-color: #3B4455;\n",
              "      --fill-color: #D2E3FC;\n",
              "      --hover-bg-color: #434B5C;\n",
              "      --hover-fill-color: #FFFFFF;\n",
              "      --disabled-bg-color: #3B4455;\n",
              "      --disabled-fill-color: #666;\n",
              "  }\n",
              "\n",
              "  .colab-df-quickchart {\n",
              "    background-color: var(--bg-color);\n",
              "    border: none;\n",
              "    border-radius: 50%;\n",
              "    cursor: pointer;\n",
              "    display: none;\n",
              "    fill: var(--fill-color);\n",
              "    height: 32px;\n",
              "    padding: 0;\n",
              "    width: 32px;\n",
              "  }\n",
              "\n",
              "  .colab-df-quickchart:hover {\n",
              "    background-color: var(--hover-bg-color);\n",
              "    box-shadow: 0 1px 2px rgba(60, 64, 67, 0.3), 0 1px 3px 1px rgba(60, 64, 67, 0.15);\n",
              "    fill: var(--button-hover-fill-color);\n",
              "  }\n",
              "\n",
              "  .colab-df-quickchart-complete:disabled,\n",
              "  .colab-df-quickchart-complete:disabled:hover {\n",
              "    background-color: var(--disabled-bg-color);\n",
              "    fill: var(--disabled-fill-color);\n",
              "    box-shadow: none;\n",
              "  }\n",
              "\n",
              "  .colab-df-spinner {\n",
              "    border: 2px solid var(--fill-color);\n",
              "    border-color: transparent;\n",
              "    border-bottom-color: var(--fill-color);\n",
              "    animation:\n",
              "      spin 1s steps(1) infinite;\n",
              "  }\n",
              "\n",
              "  @keyframes spin {\n",
              "    0% {\n",
              "      border-color: transparent;\n",
              "      border-bottom-color: var(--fill-color);\n",
              "      border-left-color: var(--fill-color);\n",
              "    }\n",
              "    20% {\n",
              "      border-color: transparent;\n",
              "      border-left-color: var(--fill-color);\n",
              "      border-top-color: var(--fill-color);\n",
              "    }\n",
              "    30% {\n",
              "      border-color: transparent;\n",
              "      border-left-color: var(--fill-color);\n",
              "      border-top-color: var(--fill-color);\n",
              "      border-right-color: var(--fill-color);\n",
              "    }\n",
              "    40% {\n",
              "      border-color: transparent;\n",
              "      border-right-color: var(--fill-color);\n",
              "      border-top-color: var(--fill-color);\n",
              "    }\n",
              "    60% {\n",
              "      border-color: transparent;\n",
              "      border-right-color: var(--fill-color);\n",
              "    }\n",
              "    80% {\n",
              "      border-color: transparent;\n",
              "      border-right-color: var(--fill-color);\n",
              "      border-bottom-color: var(--fill-color);\n",
              "    }\n",
              "    90% {\n",
              "      border-color: transparent;\n",
              "      border-bottom-color: var(--fill-color);\n",
              "    }\n",
              "  }\n",
              "</style>\n",
              "\n",
              "  <script>\n",
              "    async function quickchart(key) {\n",
              "      const quickchartButtonEl =\n",
              "        document.querySelector('#' + key + ' button');\n",
              "      quickchartButtonEl.disabled = true;  // To prevent multiple clicks.\n",
              "      quickchartButtonEl.classList.add('colab-df-spinner');\n",
              "      try {\n",
              "        const charts = await google.colab.kernel.invokeFunction(\n",
              "            'suggestCharts', [key], {});\n",
              "      } catch (error) {\n",
              "        console.error('Error during call to suggestCharts:', error);\n",
              "      }\n",
              "      quickchartButtonEl.classList.remove('colab-df-spinner');\n",
              "      quickchartButtonEl.classList.add('colab-df-quickchart-complete');\n",
              "    }\n",
              "    (() => {\n",
              "      let quickchartButtonEl =\n",
              "        document.querySelector('#df-a620ed97-5351-4499-9b51-6823c11a3b59 button');\n",
              "      quickchartButtonEl.style.display =\n",
              "        google.colab.kernel.accessAllowed ? 'block' : 'none';\n",
              "    })();\n",
              "  </script>\n",
              "</div>\n",
              "    </div>\n",
              "  </div>\n"
            ]
          },
          "metadata": {},
          "execution_count": 25
        }
      ]
    },
    {
      "cell_type": "markdown",
      "source": [],
      "metadata": {
        "id": "k-iw_1OhPCxG"
      }
    },
    {
      "cell_type": "code",
      "source": [
        "!pip install datasets transformers rouge-score nltk -q\n"
      ],
      "metadata": {
        "id": "rHDtBvoYO4tK"
      },
      "execution_count": null,
      "outputs": []
    },
    {
      "cell_type": "code",
      "source": [
        "import torch\n",
        "import datasets\n",
        "from datasets import Dataset\n",
        "from datasets import load_metric"
      ],
      "metadata": {
        "id": "UpbypT6zO4qe"
      },
      "execution_count": null,
      "outputs": []
    },
    {
      "cell_type": "code",
      "source": [
        "from transformers import AutoTokenizer\n",
        "\n",
        "model_checkpoint ='t5-small'\n",
        "\n",
        "tokenizer = AutoTokenizer.from_pretrained(model_checkpoint)\n",
        "\n",
        "pad_on_right = tokenizer.padding_side == \"right\""
      ],
      "metadata": {
        "id": "e7fvCmmFO4n3"
      },
      "execution_count": null,
      "outputs": []
    },
    {
      "cell_type": "code",
      "source": [
        "max_input_length = 6500\n",
        "max_target_length = 500\n"
      ],
      "metadata": {
        "id": "S5ODEDIlO4cl"
      },
      "execution_count": null,
      "outputs": []
    },
    {
      "cell_type": "code",
      "source": [
        "df = df.sample(frac=1).reset_index(drop=True)\n",
        "train = df[:3350]\n",
        "valid = df[3350:3690]\n",
        "test = df[3690:]\n",
        "train.shape, valid.shape,test.shape"
      ],
      "metadata": {
        "id": "xqkQF_fuPag8"
      },
      "execution_count": null,
      "outputs": []
    },
    {
      "cell_type": "code",
      "source": [
        "def preprocess_function(examples):\n",
        "    inputs = ['summarize:' + doc for doc in examples[\"document\"]]\n",
        "    model_inputs = tokenizer(inputs, max_length=max_input_length, truncation=True,padding='max_length')\n",
        "\n",
        "    # Setup the tokenizer for targets\n",
        "    with tokenizer.as_target_tokenizer():\n",
        "        labels = tokenizer(examples[\"summary\"], max_length=max_target_length, truncation=True)\n",
        "\n",
        "    model_inputs[\"labels\"] = labels[\"input_ids\"]\n",
        "    return model_inputs"
      ],
      "metadata": {
        "id": "4ZsqOiBuPadc"
      },
      "execution_count": null,
      "outputs": []
    },
    {
      "cell_type": "code",
      "source": [
        "import torch\n",
        "import datasets\n",
        "from datasets import Dataset\n",
        "\n",
        "train = Dataset.from_pandas(train)\n",
        "valid = Dataset.from_pandas(valid)"
      ],
      "metadata": {
        "id": "XHmYkkD7PabB"
      },
      "execution_count": null,
      "outputs": []
    },
    {
      "cell_type": "code",
      "source": [
        "tokenized_train = train.map(preprocess_function, batched=True)\n",
        "tokenized_valid = valid.map(preprocess_function, batched=True)"
      ],
      "metadata": {
        "id": "vthXQFMWPaYE"
      },
      "execution_count": null,
      "outputs": []
    },
    {
      "cell_type": "markdown",
      "source": [
        "finetunning\n"
      ],
      "metadata": {
        "id": "FLWLFhtVP7pY"
      }
    },
    {
      "cell_type": "code",
      "source": [
        "import transformers\n",
        "assert isinstance(tokenizer, transformers.PreTrainedTokenizerFast)"
      ],
      "metadata": {
        "id": "0c2nE8BpPaVZ"
      },
      "execution_count": null,
      "outputs": []
    },
    {
      "cell_type": "code",
      "source": [
        "# from transformers import AutoModelForSeq2SeqLM, DataCollatorForSeq2Seq, Seq2SeqTrainingArguments, Seq2SeqTrainer\n",
        "from transformers import AutoModelForSeq2SeqLM, DataCollatorForSeq2Seq, TrainingArguments, Trainer\n",
        "\n",
        "model = AutoModelForSeq2SeqLM.from_pretrained(model_checkpoint)\n"
      ],
      "metadata": {
        "id": "mMauI_pjPaSo"
      },
      "execution_count": null,
      "outputs": []
    },
    {
      "cell_type": "code",
      "source": [
        "batch_size = 1\n",
        "data_collator = DataCollatorForSeq2Seq(tokenizer, model=model)"
      ],
      "metadata": {
        "id": "2uTGqvGePaQA"
      },
      "execution_count": null,
      "outputs": []
    },
    {
      "cell_type": "code",
      "source": [
        "import nltk\n",
        "import numpy as np\n",
        "\n",
        "def compute_metrics(eval_pred):\n",
        "    predictions, labels = eval_pred\n",
        "    decoded_preds = tokenizer.batch_decode(predictions, skip_special_tokens=True)\n",
        "    # Replace -100 in the labels as we can't decode them.\n",
        "    labels = np.where(labels != -100, labels, tokenizer.pad_token_id)\n",
        "    decoded_labels = tokenizer.batch_decode(labels, skip_special_tokens=True)\n",
        "\n",
        "    # Rouge expects a newline after each sentence\n",
        "    decoded_preds = [\"\\n\".join(nltk.sent_tokenize(pred.strip())) for pred in decoded_preds]\n",
        "    decoded_labels = [\"\\n\".join(nltk.sent_tokenize(label.strip())) for label in decoded_labels]\n",
        "\n",
        "    result = metric.compute(predictions=decoded_preds, references=decoded_labels, use_stemmer=True)\n",
        "    # Extract a few results\n",
        "    result = {key: value.mid.fmeasure * 100 for key, value in result.items()}\n",
        "\n",
        "    # Add mean generated length\n",
        "    prediction_lens = [np.count_nonzero(pred != tokenizer.pad_token_id) for pred in predictions]\n",
        "    result[\"gen_len\"] = np.mean(prediction_lens)\n",
        "\n",
        "    return {k: round(v, 4) for k, v in result.items()}"
      ],
      "metadata": {
        "id": "xFFVeR4BPaNR"
      },
      "execution_count": null,
      "outputs": []
    },
    {
      "cell_type": "code",
      "source": [
        "import gc\n",
        "gc.collect()"
      ],
      "metadata": {
        "id": "-ATGEnFePaKV"
      },
      "execution_count": null,
      "outputs": []
    },
    {
      "cell_type": "code",
      "source": [
        "DEVICE = \"cuda\" if torch.cuda.is_available() else \"cpu\"\n",
        "#DEVICE =\"cpu\"\n",
        "# print(\"[INFO] training using {}\".format(torch.cuda.get_device_name(0)))\n",
        "#print('There are %d GPU(s) available.' % torch.cuda.device_count())"
      ],
      "metadata": {
        "id": "jkK2PnnzPaHh"
      },
      "execution_count": null,
      "outputs": []
    },
    {
      "cell_type": "code",
      "source": [
        "torch.cuda.empty_cache()"
      ],
      "metadata": {
        "id": "S79oQ4_fPaEh"
      },
      "execution_count": null,
      "outputs": []
    },
    {
      "cell_type": "code",
      "source": [
        "%env WANDB_DISABLED=True\n"
      ],
      "metadata": {
        "id": "5OiiAhKocomx"
      },
      "execution_count": null,
      "outputs": []
    },
    {
      "cell_type": "code",
      "source": [
        "# !pip install accelerate -U"
      ],
      "metadata": {
        "id": "znzvk5zYbmtI"
      },
      "execution_count": null,
      "outputs": []
    },
    {
      "cell_type": "code",
      "source": [
        "# !pip install transformers[torch]"
      ],
      "metadata": {
        "id": "wXZfNiSscHty"
      },
      "execution_count": null,
      "outputs": []
    },
    {
      "cell_type": "code",
      "source": [
        "# import accelerate\n",
        "# print(accelerate.__version__)"
      ],
      "metadata": {
        "id": "H3_m7AgYenQf"
      },
      "execution_count": null,
      "outputs": []
    },
    {
      "cell_type": "code",
      "source": [
        "# !pip uninstall torch torchvision -y\n",
        "# !pip install torch==1.8.1 torchvision==0.9.1 torchtext==0.9.0\n"
      ],
      "metadata": {
        "id": "08JbVykLk9f9"
      },
      "execution_count": null,
      "outputs": []
    },
    {
      "cell_type": "code",
      "source": [
        "# !pip install accelerate\n",
        "# !pip install transformers -U\n"
      ],
      "metadata": {
        "id": "4H8U18zZlRjA"
      },
      "execution_count": null,
      "outputs": []
    },
    {
      "cell_type": "code",
      "source": [
        "model_name = model_checkpoint.split(\"/\")[-1]\n",
        "args = TrainingArguments(\n",
        "    output_dir=f\"{model_name}-finetuned-Summarizer\",\n",
        "    evaluation_strategy = \"epoch\",\n",
        "    learning_rate=2e-5,\n",
        "    per_device_train_batch_size=batch_size,\n",
        "    per_device_eval_batch_size=batch_size,\n",
        "    weight_decay=0.01,\n",
        "    save_total_limit=3,\n",
        "    num_train_epochs=5,\n",
        "    gradient_accumulation_steps=2,\n",
        "    fp16=True\n",
        ")"
      ],
      "metadata": {
        "id": "KFBs956wPZs6"
      },
      "execution_count": null,
      "outputs": []
    },
    {
      "cell_type": "code",
      "source": [
        "trainer = Trainer(\n",
        "    model,\n",
        "    args,\n",
        "    train_dataset=tokenized_train,\n",
        "    eval_dataset=tokenized_valid,\n",
        "    data_collator=data_collator,\n",
        "    tokenizer=tokenizer,\n",
        "    compute_metrics=compute_metrics\n",
        ")"
      ],
      "metadata": {
        "id": "GF0sl-u6QsxE"
      },
      "execution_count": null,
      "outputs": []
    },
    {
      "cell_type": "code",
      "source": [
        "metric = load_metric(\"rouge\")\n"
      ],
      "metadata": {
        "id": "nEwEBLaVQxsm"
      },
      "execution_count": null,
      "outputs": []
    },
    {
      "cell_type": "code",
      "source": [
        "import os\n",
        "os.environ['PYTORCH_CUDA_ALLOC_CONF'] = 'max_split_size_mb=10'"
      ],
      "metadata": {
        "id": "DL0zyq22wdSg"
      },
      "execution_count": null,
      "outputs": []
    },
    {
      "cell_type": "code",
      "source": [
        "trainer.train()"
      ],
      "metadata": {
        "id": "rf3Nt-WRSNWa"
      },
      "execution_count": null,
      "outputs": []
    },
    {
      "cell_type": "code",
      "source": [
        "# trainer.save_model(\"\")\n"
      ],
      "metadata": {
        "id": "yJk7o3sitBtE"
      },
      "execution_count": null,
      "outputs": []
    },
    {
      "cell_type": "code",
      "source": [
        "eval_dataset = Dataset.from_pandas(test)"
      ],
      "metadata": {
        "id": "XF222NDeSSba"
      },
      "execution_count": null,
      "outputs": []
    },
    {
      "cell_type": "code",
      "source": [
        "eval_dataset = eval_dataset.map(\n",
        "                preprocess_function,\n",
        "                batched=True)"
      ],
      "metadata": {
        "id": "VjyxECrjSWT9"
      },
      "execution_count": null,
      "outputs": []
    },
    {
      "cell_type": "code",
      "source": [
        "predict_results = trainer.predict(\n",
        "            eval_dataset,max_length=128, num_beams=3)"
      ],
      "metadata": {
        "id": "qqnGyisBSZ5H"
      },
      "execution_count": null,
      "outputs": []
    },
    {
      "cell_type": "code",
      "source": [
        "metrics = predict_results.metrics"
      ],
      "metadata": {
        "id": "jYJ1xXR8SdTn"
      },
      "execution_count": null,
      "outputs": []
    },
    {
      "cell_type": "code",
      "source": [
        "if args.predict_with_generate:\n",
        "    predictions = tokenizer.batch_decode(predict_results.predictions, skip_special_tokens=True, clean_up_tokenization_spaces=True)\n",
        "    predictions = [pred.strip() for pred in predictions]"
      ],
      "metadata": {
        "id": "xaRK8lyISqth"
      },
      "execution_count": null,
      "outputs": []
    },
    {
      "cell_type": "code",
      "source": [
        "predictions[:2]"
      ],
      "metadata": {
        "id": "kL5cOKd4SuXz"
      },
      "execution_count": null,
      "outputs": []
    },
    {
      "cell_type": "code",
      "source": [
        "test['summary'][:2]"
      ],
      "metadata": {
        "id": "9VLwSVsNSyXO"
      },
      "execution_count": null,
      "outputs": []
    }
  ]
}